{
 "cells": [
  {
   "cell_type": "code",
   "execution_count": 1,
   "id": "9034da8b-bdda-46df-818d-fe1665f6421d",
   "metadata": {},
   "outputs": [],
   "source": [
    "# references:\n",
    "# 1. https://github.com/omniscientoctopus/Physics-Informed-Neural-Networks\n",
    "# 2. https://github.com/jdtoscano94/Learning-Python-Physics-Informed-Machine-Learning-PINNs-DeepONets/blob/main/PINNs/5_BurgersEquation.ipynb"
   ]
  },
  {
   "cell_type": "markdown",
   "id": "0fa44dea-272e-4a65-86d0-2840185c937d",
   "metadata": {
    "colab": {},
    "colab_type": "code",
    "id": "8UVJmvZbXjXb",
    "tags": []
   },
   "source": [
    "# Problem Setup\n",
    " from https://github.com/jdtoscano94/Learning-Python-Physics-Informed-Machine-Learning-PINNs-DeepONets/blob/main/PINNs/5_BurgersEquation.ipynb\n",
    "\n",
    "## 1D Burgers' Equation\n",
    "\n",
    "$$\\frac{\\partial u}{\\partial t}+ u\\frac{\\partial u}{\\partial x}=\\nu\\frac{\\partial^2 u}{\\partial x^2} $$\n",
    "\n",
    "$$x\\in[-1,1]$$\n",
    "$$t\\in[0,1]$$\n",
    "\n",
    "rearrange the Burgers equation:\n",
    "\n",
    "$$u_t+u(u_x)-\\nu u_{xx}=0$$\n",
    "\n",
    "where, $u_t=\\frac{\\partial u}{\\partial t}$, \n",
    "$u_x=\\frac{\\partial u}{\\partial x}$, \n",
    "$u_{xx}=\\frac{\\partial^2 u}{\\partial x^2}$\n",
    "\n",
    "### Initial and Boundary Conditions:\n",
    "$$t = 0, u(0, x)  = 0$$ \n",
    "$$x = -1, u(t, -1)  = 0$$ \n",
    "$$x = 1, u(t, 1)  = 0$$ "
   ]
  },
  {
   "cell_type": "markdown",
   "id": "0fb162dd-abef-4c03-ab31-4620253b8e5f",
   "metadata": {
    "colab": {},
    "colab_type": "code",
    "id": "8UVJmvZbXjXb"
   },
   "source": [
    "\n",
    "\n",
    "## Neural Network\n",
    "\n",
    "\n",
    "$$NN(X)=W_n\\sigma_{n-1}(W_{n-1}\\sigma_{n-2}(...(W_2(W_1X+b_1)+b_2)+..)+b_{n-1})+b_n$$\n",
    "\n",
    "**Note:**We usually train our NN by iteratively minimizing a loss function ($MSE$:mean squared error) in the training dataset(known data).\n",
    " \n",
    "## Physics Informed Neural Network = Neural Network + PDE \n",
    "(See: https://www.sciencedirect.com/science/article/pii/S0021999118307125)\n",
    "\n",
    "We can use a neural network to approximate any function (Universal Approximation Theorem): \n",
    "$$NN(x,t)\\approx u(x,t)$$ \n",
    "\n",
    "Since NN is a function, we can obtain its derivatives: $\\frac{\\partial NN}{\\partial t},\\frac{\\partial^2 NN}{\\partial x^2}$.(Automatic Diferentiation) \n",
    "\n",
    "Assume:$$NN(t,x)\\approx u(t,x)$$ \n",
    "\n",
    "Then:\n",
    "\n",
    "$$\\frac{\\partial NN}{\\partial t}+N(\\frac{\\partial NN}{\\partial x})-\\nu\\frac{\\partial^2 NN}{\\partial x^2}\\approx u_t+u(u_x)-\\nu u_{xx}=0$$\n",
    "\n",
    "And:\n",
    "\n",
    "$$\\frac{\\partial NN}{\\partial t}+N(\\frac{\\partial NN}{\\partial x})-\\nu\\frac{\\partial^2 NN}{\\partial x^2}\\approx 0$$\n",
    "\n",
    "\n",
    "We define this function as $f$:\n",
    "\n",
    "$$f(t,x)=\\frac{\\partial NN}{\\partial t}+N(\\frac{\\partial NN}{\\partial x})-\\nu\\frac{\\partial^2 NN}{\\partial x^2}$$\n",
    "\n",
    "If $f\\rightarrow 0$ then our NN would be respecting the physical law.\n",
    "\n",
    "### PINNs' Loss function\n",
    "\n",
    "We evaluate our PDE in a certain number of \"collocation points\" ($N_f$) inside our domain $(x,t)$. Then we iteratively minimize a loss function related to $f$:\n",
    "\n",
    "$$MSE_f=\\frac{1}{N_f}\\sum^{N_f}_{i=1}|f(t_f^i,x_f^i)|^2$$\n",
    "\n",
    "Usually, the training data set is a set of points from which we know the answer. In our case, we will use our boundary(BC) and initial conditions(IC).\n",
    "\n",
    "Since we know the outcome, we select $N_u$ points from our BC and IC and used them to train our network.\n",
    "\n",
    "$$MSE_{u}=\\frac{1}{N_u}\\sum^{N_u}_{i=1}|y(t_{u}^i,x_u^i)-NN(t_{u}^i,x_u^i)|^2$$\n",
    "\n",
    "\n",
    "#### Total Loss:\n",
    "\n",
    "$$MSE=MSE_{u}+MSE_f$$"
   ]
  },
  {
   "cell_type": "markdown",
   "id": "3d74bf49-6285-4af3-88a9-95d251558fb9",
   "metadata": {},
   "source": [
    "# Import Libraries"
   ]
  },
  {
   "cell_type": "code",
   "execution_count": 2,
   "id": "7e335423",
   "metadata": {},
   "outputs": [
    {
     "name": "stdout",
     "output_type": "stream",
     "text": [
      "cuda\n",
      "NVIDIA A100-SXM4-80GB\n"
     ]
    }
   ],
   "source": [
    "import torch\n",
    "import torch.autograd as autograd         # computation graph\n",
    "from torch import Tensor                  # tensor node in the computation graph\n",
    "import torch.nn as nn                     # neural networks\n",
    "import torch.optim as optim               # optimizers e.g. gradient descent, ADAM, etc.\n",
    "\n",
    "import matplotlib.pyplot as plt\n",
    "import matplotlib.gridspec as gridspec\n",
    "from mpl_toolkits.axes_grid1 import make_axes_locatable\n",
    "from mpl_toolkits.mplot3d import Axes3D\n",
    "import matplotlib.ticker\n",
    "\n",
    "import numpy as np\n",
    "import time\n",
    "from pyDOE import lhs         #Latin Hypercube Sampling\n",
    "import scipy.io\n",
    "\n",
    "#Set default dtype to float32\n",
    "torch.set_default_dtype(torch.float)\n",
    "\n",
    "#PyTorch random number generator\n",
    "torch.manual_seed(1234)\n",
    "\n",
    "# Random number generators in other libraries\n",
    "np.random.seed(1234)\n",
    "\n",
    "# Device configuration\n",
    "device = torch.device('cuda' if torch.cuda.is_available() else 'cpu')\n",
    "\n",
    "print(device)\n",
    "if device.type == 'cuda':\n",
    "    print(torch.cuda.get_device_name()) "
   ]
  },
  {
   "cell_type": "markdown",
   "id": "6f65caee",
   "metadata": {
    "tags": []
   },
   "source": [
    "# Data Preparation\n",
    "\n",
    "Training and Testing data is prepared from the solution file"
   ]
  },
  {
   "cell_type": "code",
   "execution_count": 3,
   "id": "c413c37b-e291-4ac5-a122-f3c75f34f664",
   "metadata": {},
   "outputs": [],
   "source": [
    "data = scipy.io.loadmat('Data/burgers_shock_mu_01_pi.mat')  \t# Load data from file\n",
    "x = data['x']                                   # 256 points between -1 and 1 [256x1]\n",
    "t = data['t']                                   # 100 time points between 0 and 1 [100x1] \n",
    "usol = data['usol']                             # solution of 256x100 grid points\n",
    "\n",
    "X, T = np.meshgrid(x,t)                         # makes 2 arrays X and T such that u(X[i],T[j])=usol[i][j] are a tuple"
   ]
  },
  {
   "cell_type": "code",
   "execution_count": 4,
   "id": "78599473-db33-4fc7-890b-893786230e33",
   "metadata": {},
   "outputs": [
    {
     "name": "stdout",
     "output_type": "stream",
     "text": [
      "(100, 256)\n",
      "(100, 256)\n",
      "(256, 100)\n"
     ]
    }
   ],
   "source": [
    "print(X.shape)\n",
    "print(T.shape)\n",
    "print(usol.shape)"
   ]
  },
  {
   "cell_type": "markdown",
   "id": "19e8d48d",
   "metadata": {},
   "source": [
    "## Training Data"
   ]
  },
  {
   "cell_type": "code",
   "execution_count": 3,
   "id": "73e64cd0-df66-4f66-86af-437dc4189093",
   "metadata": {
    "colab": {},
    "colab_type": "code",
    "id": "8UVJmvZbXjXb"
   },
   "outputs": [],
   "source": [
    "def trainingdata(N_u,N_f):\n",
    "\n",
    "    '''Boundary Conditions'''\n",
    "    #Initial Condition -1 =< x =<1 and t = 0  \n",
    "    leftedge_x = np.hstack((X[0,:][:,None], T[0,:][:,None])) # L1\n",
    "    leftedge_u = usol[:,0][:,None]\n",
    "\n",
    "    #Boundary Condition x = -1 and 0 =< t =<1\n",
    "    bottomedge_x = np.hstack((X[:,0][:,None], T[:,0][:,None])) # L2\n",
    "    bottomedge_u = usol[-1,:][:,None]\n",
    "\n",
    "    #Boundary Condition x = 1 and 0 =< t =<1\n",
    "    topedge_x = np.hstack((X[:,-1][:,None], T[:,0][:,None])) # L3\n",
    "    topedge_u = usol[0,:][:,None]\n",
    "\n",
    "    all_X_u_train = np.vstack([leftedge_x, bottomedge_x, topedge_x]) # X_u_train [456,2] (456 = 256(L1)+100(L2)+100(L3))\n",
    "    all_u_train = np.vstack([leftedge_u, bottomedge_u, topedge_u])   # corresponding u [456x1]\n",
    "\n",
    "    #choose random N_u = 100 points for training on BC/IC\n",
    "    idx = np.random.choice(all_X_u_train.shape[0], N_u, replace=False) \n",
    "\n",
    "    '''ic, bc'''\n",
    "    X_u_train = all_X_u_train[idx, :] #choose indices from  set 'idx' (x,t)\n",
    "    u_train = all_u_train[idx,:]      #choose corresponding u\n",
    "\n",
    "    '''Collocation Points'''\n",
    "    # Latin Hypercube sampling for collocation points \n",
    "    # choose random N_f = 10_000 sets of tuples(x, t)\n",
    "    X_f_train = lb + (ub-lb) * lhs(2,N_f) \n",
    "    X_f_train = np.vstack((X_f_train, X_u_train)) # append training points to collocation points \n",
    "\n",
    "    return X_f_train, X_u_train, u_train "
   ]
  },
  {
   "cell_type": "markdown",
   "id": "23a44763",
   "metadata": {},
   "source": [
    "## Test Data\n",
    "\n",
    "We prepare the test data to compare against the solution produced by the PINN."
   ]
  },
  {
   "cell_type": "code",
   "execution_count": 5,
   "id": "64b95b6b",
   "metadata": {
    "colab": {},
    "colab_type": "code",
    "id": "yddknKA2Xohp"
   },
   "outputs": [
    {
     "name": "stdout",
     "output_type": "stream",
     "text": [
      "(25600, 1)\n"
     ]
    }
   ],
   "source": [
    "''' X_u_test = [X[i],T[i]] [25600,2] for interpolation'''\n",
    "X_u_test = np.hstack((X.flatten()[:,None], T.flatten()[:,None]))\n",
    "\n",
    "# Domain bounds\n",
    "lb = X_u_test[0]  # [-1. 0.]\n",
    "ub = X_u_test[-1] # [1.  0.99]\n",
    "\n",
    "'''\n",
    "   Fortran Style ('F') flatten,stacked column wise!\n",
    "   u = [c1 \n",
    "        c2\n",
    "        .\n",
    "        .\n",
    "        cn]\n",
    "\n",
    "   u =  [25600x1] \n",
    "'''\n",
    "u_true = usol.flatten('F')[:,None] \n",
    "print(u_true.shape)"
   ]
  },
  {
   "cell_type": "markdown",
   "id": "cd1120a1",
   "metadata": {},
   "source": [
    "# Physics Informed Neural Network"
   ]
  },
  {
   "cell_type": "code",
   "execution_count": 20,
   "id": "d5e2ec75",
   "metadata": {},
   "outputs": [],
   "source": [
    "class PINN(nn.Module):\n",
    "    # adapted from https://github.com/omniscientoctopus/Physics-Informed-Neural-Networks\n",
    "\n",
    "    def __init__(self,layers):\n",
    "        super().__init__() #call __init__ from parent class \n",
    "              \n",
    "        'activation function'\n",
    "        self.activation = nn.Tanh()\n",
    "        #self.activation = nn.Sigmoid()\n",
    "        #self.activation = nn.ReLU(inplace=True)\n",
    "        \n",
    "        'loss function'\n",
    "        self.loss_function = nn.MSELoss(reduction ='mean')\n",
    "    \n",
    "        'Initialise neural network as a list using nn.Modulelist'  \n",
    "        self.linears = nn.ModuleList([nn.Linear(layers[i], layers[i+1]) for i in range(len(layers)-1)])\n",
    "        \n",
    "        self.iter = 0\n",
    "\n",
    "    \n",
    "        'Xavier Normal Initialization'\n",
    "        # std = gain * sqrt(2/(input_dim+output_dim))\n",
    "        for i in range(len(layers)-1):\n",
    "            \n",
    "            # weights from a normal distribution with \n",
    "            # Recommended gain value for tanh = 5/3?\n",
    "            nn.init.xavier_normal_(self.linears[i].weight.data, gain=1.0)\n",
    "            \n",
    "            # set biases to zero\n",
    "            nn.init.zeros_(self.linears[i].bias.data)\n",
    "            \n",
    "    'foward pass'\n",
    "    def forward(self,x):\n",
    "        \n",
    "        if torch.is_tensor(x) != True:         \n",
    "            x = torch.from_numpy(x)                \n",
    "        \n",
    "        u_b = torch.from_numpy(ub).float().to(device)\n",
    "        l_b = torch.from_numpy(lb).float().to(device)\n",
    "                      \n",
    "        #preprocessing input \n",
    "        x = (x - l_b)/(u_b - l_b) #feature scaling\n",
    "        \n",
    "        #convert to float\n",
    "        a = x.float()\n",
    "                        \n",
    "        '''     \n",
    "        Alternatively:\n",
    "        \n",
    "        a = self.activation(self.fc1(a))\n",
    "        a = self.activation(self.fc2(a))\n",
    "        a = self.activation(self.fc3(a))\n",
    "        a = self.fc4(a)\n",
    "        \n",
    "        '''\n",
    "        \n",
    "        for i in range(len(layers)-2):\n",
    "            \n",
    "            z = self.linears[i](a)\n",
    "                        \n",
    "            a = self.activation(z)\n",
    "            \n",
    "        a = self.linears[-1](a)\n",
    "        \n",
    "        return a\n",
    "                        \n",
    "    def loss_BC(self,x,y):\n",
    "                \n",
    "        loss_u = self.loss_function(self.forward(x), y)\n",
    "                \n",
    "        return loss_u\n",
    "    \n",
    "    def loss_PDE(self, x_to_train_f):\n",
    "        \n",
    "        nu = 0.01/np.pi\n",
    "                \n",
    "        x_1_f = x_to_train_f[:,[0]]\n",
    "        x_2_f = x_to_train_f[:,[1]]\n",
    "                        \n",
    "        g = x_to_train_f.clone()\n",
    "                        \n",
    "        g.requires_grad = True\n",
    "        \n",
    "        u = self.forward(g)\n",
    "                \n",
    "        u_x_t = autograd.grad(u,g,torch.ones([x_to_train_f.shape[0], 1]).to(device), retain_graph=True, create_graph=True)[0]\n",
    "                                \n",
    "        u_xx_tt = autograd.grad(u_x_t,g,torch.ones(x_to_train_f.shape).to(device), create_graph=True)[0]\n",
    "                                                            \n",
    "        u_x = u_x_t[:,[0]]\n",
    "        \n",
    "        u_t = u_x_t[:,[1]]\n",
    "        \n",
    "        u_xx = u_xx_tt[:,[0]]\n",
    "                                        \n",
    "        f = u_t + (self.forward(g))*(u_x) - (nu)*u_xx \n",
    "        \n",
    "        loss_f = self.loss_function(f,f_hat)\n",
    "                \n",
    "        return loss_f\n",
    "    \n",
    "    def loss(self,x,y,x_to_train_f):\n",
    "\n",
    "        loss_u = self.loss_BC(x,y)\n",
    "        loss_f = self.loss_PDE(x_to_train_f)\n",
    "        \n",
    "        loss_val = loss_u + loss_f\n",
    "        \n",
    "        return loss_val\n",
    "     \n",
    "    'callable for optimizer'                                       \n",
    "    def closure(self):\n",
    "        \n",
    "        optimizer.zero_grad()\n",
    "        \n",
    "        loss = self.loss(X_u_train, u_train, X_f_train)\n",
    "        \n",
    "        loss.backward()\n",
    "                \n",
    "        self.iter += 1\n",
    "        \n",
    "        if self.iter % 100 == 0:\n",
    "\n",
    "            error_vec, _ = self.test()\n",
    "        \n",
    "            print(\"loss = %.6f, error = %.6f\" %(loss.item(),error_vec.item()))\n",
    "\n",
    "        return loss        \n",
    "    \n",
    "    'calculate test metrics'\n",
    "    def test(self):\n",
    "                \n",
    "        u_pred = self.forward(X_u_test_tensor)\n",
    "        \n",
    "        error_vec = torch.linalg.norm((u-u_pred), 2)/torch.linalg.norm(u,2)        # Relative L2 Norm of the error (Vector)\n",
    "        \n",
    "        u_pred = u_pred.cpu().detach().numpy()\n",
    "        \n",
    "        u_pred = np.reshape(u_pred,(256,100), order='F')\n",
    "                \n",
    "        return error_vec, u_pred"
   ]
  },
  {
   "cell_type": "markdown",
   "id": "4c121445",
   "metadata": {
    "colab_type": "text",
    "id": "bOjuHdzAhib-"
   },
   "source": [
    "# *Solution Plot*"
   ]
  },
  {
   "cell_type": "code",
   "execution_count": 8,
   "id": "db79effa",
   "metadata": {
    "colab": {},
    "colab_type": "code",
    "id": "UWqNuRMLhg4m"
   },
   "outputs": [],
   "source": [
    "def solution_plot(u_pred,X_u_train,u_train):\n",
    "    \n",
    "    fig, ax = plt.subplots()\n",
    "    ax.axis('off')\n",
    "\n",
    "    gs0 = gridspec.GridSpec(1, 2)\n",
    "    gs0.update(top=1-0.06, bottom=1-1/3, left=0.15, right=0.85, wspace=0)\n",
    "    ax = plt.subplot(gs0[:, :])\n",
    "\n",
    "    h = ax.imshow(u_pred, interpolation='nearest', cmap='rainbow', \n",
    "                extent=[T.min(), T.max(), X.min(), X.max()], \n",
    "                origin='lower', aspect='auto')\n",
    "    h.set_clim(-1,1)\n",
    "    divider = make_axes_locatable(ax)\n",
    "    cax = divider.append_axes(\"right\", size=\"5%\", pad=0.05)\n",
    "    fig.colorbar(h, cax=cax)\n",
    "    \n",
    "    ax.plot(X_u_train[:,1], X_u_train[:,0], 'kx', label = 'Data (%d points)' % (u_train.shape[0]), markersize = 4, clip_on = False)\n",
    "\n",
    "    # 3 white vertical lines\n",
    "    line = np.linspace(x.min(), x.max(), 2)[:,None]\n",
    "    ax.plot(t[25]*np.ones((2,1)), line, 'w-', linewidth = 1)\n",
    "    ax.plot(t[50]*np.ones((2,1)), line, 'w-', linewidth = 1)\n",
    "    ax.plot(t[75]*np.ones((2,1)), line, 'w-', linewidth = 1)    \n",
    "\n",
    "    ax.set_xlabel('$t$')\n",
    "    ax.set_ylabel('$x$')\n",
    "    ax.legend(frameon=False, loc = 'best')\n",
    "    ax.set_title('$u(x,t)$', fontsize = 10)\n",
    "    \n",
    "    ''' \n",
    "    Slices of the solution at points t = 0.25, t = 0.50 and t = 0.75\n",
    "    '''\n",
    "    \n",
    "    ####### Row 1: u(t,x) slices ##################\n",
    "    gs1 = gridspec.GridSpec(1, 3)\n",
    "    gs1.update(top=1-1/3, bottom=0, left=0.1, right=0.9, wspace=0.5)\n",
    "\n",
    "    ax = plt.subplot(gs1[0, 0])\n",
    "    ax.plot(x,usol.T[25,:], 'b-', linewidth = 2, label = 'Exact')       \n",
    "    ax.plot(x,u_pred.T[25,:], 'r--', linewidth = 2, label = 'Prediction')\n",
    "    ax.set_xlabel('$x$')\n",
    "    ax.set_ylabel('$u(x,t)$')    \n",
    "    ax.set_title('$t = 0.25s$', fontsize = 10)\n",
    "    ax.axis('square')\n",
    "    ax.set_xlim([-1.1,1.1])\n",
    "    ax.set_ylim([-1.1,1.1])\n",
    "\n",
    "    ax = plt.subplot(gs1[0, 1])\n",
    "    ax.plot(x,usol.T[50,:], 'b-', linewidth = 2, label = 'Exact')       \n",
    "    ax.plot(x,u_pred.T[50,:], 'r--', linewidth = 2, label = 'Prediction')\n",
    "    ax.set_xlabel('$x$')\n",
    "    ax.set_ylabel('$u(x,t)$')\n",
    "    ax.axis('square')\n",
    "    ax.set_xlim([-1.1,1.1])\n",
    "    ax.set_ylim([-1.1,1.1])\n",
    "    ax.set_title('$t = 0.50s$', fontsize = 10)\n",
    "    ax.legend(loc='upper center', bbox_to_anchor=(0.5, -0.35), ncol=5, frameon=False)\n",
    "\n",
    "    ax = plt.subplot(gs1[0, 2])\n",
    "    ax.plot(x,usol.T[75,:], 'b-', linewidth = 2, label = 'Exact')       \n",
    "    ax.plot(x,u_pred.T[75,:], 'r--', linewidth = 2, label = 'Prediction')\n",
    "    ax.set_xlabel('$x$')\n",
    "    ax.set_ylabel('$u(x,t)$')\n",
    "    ax.axis('square')\n",
    "    ax.set_xlim([-1.1,1.1])\n",
    "    ax.set_ylim([-1.1,1.1])    \n",
    "    ax.set_title('$t = 0.75s$', fontsize = 10)\n",
    "    \n",
    "    plt.savefig('Burgers.png',dpi = 500)   "
   ]
  },
  {
   "cell_type": "markdown",
   "id": "c0097425",
   "metadata": {},
   "source": [
    "# Hyperparameters"
   ]
  },
  {
   "cell_type": "code",
   "execution_count": 17,
   "id": "431166a5-6013-4c3a-ba19-87cf22fbe16b",
   "metadata": {},
   "outputs": [],
   "source": [
    "N_u = 100    # Total number of data points for 'u' loss\n",
    "N_f = 10_000 # Total number of collocation points for 'f' loss"
   ]
  },
  {
   "cell_type": "markdown",
   "id": "a6b69a66-e203-4405-8298-182593c64945",
   "metadata": {},
   "source": [
    "## data preparation "
   ]
  },
  {
   "cell_type": "code",
   "execution_count": 9,
   "id": "6c765d13-a37d-4a03-aee2-58c45b572c20",
   "metadata": {},
   "outputs": [],
   "source": [
    "'''Generate Training data'''\n",
    "X_f_train_np_array, X_u_train_np_array, u_train_np_array = trainingdata(N_u,N_f)\n",
    "\n",
    "'Convert to tensor and send to GPU'\n",
    "X_f_train = torch.from_numpy(X_f_train_np_array).float().to(device)\n",
    "X_u_train = torch.from_numpy(X_u_train_np_array).float().to(device)\n",
    "u_train = torch.from_numpy(u_train_np_array).float().to(device)\n",
    "X_u_test_tensor = torch.from_numpy(X_u_test).float().to(device)\n",
    "\n",
    "u = torch.from_numpy(u_true).float().to(device)\n",
    "f_hat = torch.zeros(X_f_train.shape[0],1).to(device)"
   ]
  },
  {
   "cell_type": "markdown",
   "id": "71e710a8-80bc-46f3-be6a-320a09815f2a",
   "metadata": {},
   "source": [
    "## Build networks"
   ]
  },
  {
   "cell_type": "code",
   "execution_count": 10,
   "id": "e156116a-6671-460f-aea3-c06931c67a42",
   "metadata": {},
   "outputs": [
    {
     "name": "stdout",
     "output_type": "stream",
     "text": [
      "PINN(\n",
      "  (activation): Tanh()\n",
      "  (loss_function): MSELoss()\n",
      "  (linears): ModuleList(\n",
      "    (0): Linear(in_features=2, out_features=20, bias=True)\n",
      "    (1): Linear(in_features=20, out_features=20, bias=True)\n",
      "    (2): Linear(in_features=20, out_features=20, bias=True)\n",
      "    (3): Linear(in_features=20, out_features=20, bias=True)\n",
      "    (4): Linear(in_features=20, out_features=20, bias=True)\n",
      "    (5): Linear(in_features=20, out_features=20, bias=True)\n",
      "    (6): Linear(in_features=20, out_features=20, bias=True)\n",
      "    (7): Linear(in_features=20, out_features=20, bias=True)\n",
      "    (8): Linear(in_features=20, out_features=1, bias=True)\n",
      "  )\n",
      ")\n"
     ]
    }
   ],
   "source": [
    "layers = np.array([2,20,20,20,20,20,20,20,20,1]) #8 hidden layers\n",
    "\n",
    "pinn = PINN(layers)\n",
    "       \n",
    "pinn.to(device)\n",
    "\n",
    "'Neural Network Summary'\n",
    "print(pinn)\n",
    "\n",
    "# print(pinn.parameters())\n",
    "\n",
    "# params = sum(p.numel() for p in pinn.parameters() if p.requires_grad)\n",
    "# for parameter in pinn.parameters():\n",
    "#     print(parameter.shape)"
   ]
  },
  {
   "cell_type": "code",
   "execution_count": 11,
   "id": "d723175d-3fd7-4e8f-956c-3f6516bd5f70",
   "metadata": {},
   "outputs": [
    {
     "data": {
      "text/plain": [
       "'Optimization use L-BFGS'"
      ]
     },
     "execution_count": 11,
     "metadata": {},
     "output_type": "execute_result"
    }
   ],
   "source": [
    "'''Optimization use L-BFGS'''\n",
    "\n",
    "# max_iterations = 20000\n",
    "# learning_rate = 0.1 \n",
    "# 'L-BFGS Optimizer'\n",
    "# optimizer = torch.optim.LBFGS(pinn.parameters(), lr=learning_rate, \n",
    "#                               max_iter = max_iterations, \n",
    "#                               max_eval = None, \n",
    "#                               tolerance_grad = 1e-05, \n",
    "#                               tolerance_change = 1e-09, \n",
    "#                               history_size = 100, \n",
    "#                               line_search_fn = 'strong_wolfe')\n",
    "\n",
    "# start_time = time.time()\n",
    "\n",
    "# optimizer.step(pinn.closure)"
   ]
  },
  {
   "cell_type": "code",
   "execution_count": null,
   "id": "73cfdbca-eee2-4827-b22d-87b50325a634",
   "metadata": {},
   "outputs": [],
   "source": [
    "'''Optimization use Adam Optimizer'''\n",
    "optimizer = optim.Adam(pinn.parameters(), lr=0.001,betas=(0.9, 0.999), eps=1e-08, weight_decay=0, amsgrad=False)\n",
    "\n",
    "max_iter = 10000\n",
    "\n",
    "start_time = time.time()\n",
    "\n",
    "for i in range(max_iter):\n",
    "\n",
    "    loss = pinn.loss(X_u_train, u_train, X_f_train)\n",
    "           \n",
    "    optimizer.zero_grad()     # zeroes the gradient buffers of all parameters\n",
    "    \n",
    "    loss.backward() #backprop\n",
    "\n",
    "    optimizer.step()\n",
    "    \n",
    "    if i % (max_iter/10) == 0:\n",
    "\n",
    "        error_vec, _ = pinn.test()\n",
    "\n",
    "        #print(loss,error_vec)\n",
    "        print(\"loss = %.6f, error = %.6f\" %(loss.item(),error_vec.item()))\n",
    "    \n",
    "elapsed = time.time() - start_time                \n",
    "print('Training time: %.2f' % (elapsed))\n",
    "\n",
    "''' Model Accuracy ''' \n",
    "error_vec, u_pred = pinn.test()\n",
    "print('Test Error: %.5f'  % (error_vec))"
   ]
  },
  {
   "cell_type": "code",
   "execution_count": 16,
   "id": "7340bd18-3e71-4d05-a4c7-89ea026f5981",
   "metadata": {},
   "outputs": [
    {
     "data": {
      "image/png": "[encoded data removed]",
      "text/plain": [
       "<Figure size 640x480 with 5 Axes>"
      ]
     },
     "metadata": {},
     "output_type": "display_data"
    }
   ],
   "source": [
    "solution_plot(u_pred,X_u_train.cpu().detach().numpy(),u_train.cpu().detach().numpy())"
   ]
  },
  {
   "cell_type": "code",
   "execution_count": null,
   "id": "64f74803-d735-4d94-8309-05fce3e411b3",
   "metadata": {},
   "outputs": [],
   "source": []
  }
 ],
 "metadata": {
  "kernelspec": {
   "display_name": "torch timm",
   "language": "python",
   "name": "torch_timm"
  },
  "language_info": {
   "codemirror_mode": {
    "name": "ipython",
    "version": 3
   },
   "file_extension": ".py",
   "mimetype": "text/x-python",
   "name": "python",
   "nbconvert_exporter": "python",
   "pygments_lexer": "ipython3",
   "version": "3.8.13"
  }
 },
 "nbformat": 4,
 "nbformat_minor": 5
}
